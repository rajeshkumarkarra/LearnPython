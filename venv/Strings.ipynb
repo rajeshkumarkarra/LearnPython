{
 "cells": [
  {
   "cell_type": "heading",
   "metadata": {
    "collapsed": true
   },
   "level": 1,
   "source": [
    "Strings:"
   ]
  },
  {
   "cell_type": "code",
   "execution_count": 1,
   "metadata": {},
   "outputs": [
    {
     "name": "stdout",
     "output_type": "stream",
     "text": [
      "hello world\n"
     ]
    }
   ],
   "source": [
    "\"\"\"\n",
    "Strings what you use to represent text.\n",
    "\n",
    "Strings are a sequence of characters, enclosed in single quotes or double quotes.\n",
    "\n",
    "\"\"\"\n",
    "\n",
    "x = \"hello\"\n",
    "y = 'world'\n",
    "print(x,y)"
   ]
  },
  {
   "cell_type": "code",
   "execution_count": 2,
   "metadata": {},
   "outputs": [
    {
     "name": "stdout",
     "output_type": "stream",
     "text": [
      "\nThis is a multi-line string written in three lines..\n\n\nmulti-line strings can be written using three single quate characters as well. The string can contain 'single quotes' or \"double quotes\" in side it.\n\n"
     ]
    }
   ],
   "source": [
    "\"\"\"\n",
    "There is difference between single quotes and double quotes, they can used interchangebly.\n",
    "\n",
    "Multi-line strings can be written using three single quotes or three double quotes.\n",
    "\"\"\"\n",
    "\n",
    "x = \"\"\"\n",
    "This is a multi-line string written in three lines..\n",
    "\"\"\"\n",
    "print(x)\n",
    "\n",
    "y = '''\n",
    "multi-line strings can be written using three single quate characters as well. The string can contain 'single quotes' or \"double quotes\" in side it.\n",
    "'''\n",
    "\n",
    "print(y)\n"
   ]
  },
  {
   "cell_type": "code",
   "execution_count": null,
   "metadata": {},
   "outputs": [],
   "source": []
  }
 ],
 "metadata": {
  "kernelspec": {
   "display_name": "Python 2",
   "language": "python",
   "name": "python2"
  },
  "language_info": {
   "codemirror_mode": {
    "name": "ipython",
    "version": 2
   },
   "file_extension": ".py",
   "mimetype": "text/x-python",
   "name": "python",
   "nbconvert_exporter": "python",
   "pygments_lexer": "ipython2",
   "version": "2.7.6"
  }
 },
 "nbformat": 4,
 "nbformat_minor": 0
}
