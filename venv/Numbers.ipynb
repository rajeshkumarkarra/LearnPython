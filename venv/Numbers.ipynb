{
 "cells": [
  {
   "cell_type": "heading",
   "metadata": {
    "collapsed": true
   },
   "level": 1,
   "source": [
    "Numbers\n",
    "\n"
   ]
  },
  {
   "cell_type": "code",
   "execution_count": 6,
   "metadata": {},
   "outputs": [
    {
     "data": {
      "text/plain": [
       "42"
      ]
     },
     "execution_count": 6,
     "metadata": {},
     "output_type": "execute_result"
    }
   ],
   "source": [
    "# We already know how to work with numbers.\n",
    "\n",
    "42\n"
   ]
  },
  {
   "cell_type": "code",
   "execution_count": 7,
   "metadata": {},
   "outputs": [
    {
     "data": {
      "text/plain": [
       "6"
      ]
     },
     "execution_count": 7,
     "metadata": {},
     "output_type": "execute_result"
    }
   ],
   "source": [
    "4 + 2"
   ]
  },
  {
   "cell_type": "code",
   "execution_count": 8,
   "metadata": {},
   "outputs": [
    {
     "data": {
      "text/plain": [
       "4.2"
      ]
     },
     "execution_count": 8,
     "metadata": {},
     "output_type": "execute_result"
    }
   ],
   "source": [
    "# Python also supports decimal numbers.\n",
    "\n",
    "4.2"
   ]
  },
  {
   "cell_type": "code",
   "execution_count": 10,
   "metadata": {},
   "outputs": [
    {
     "data": {
      "text/plain": [
       "6.5"
      ]
     },
     "execution_count": 10,
     "metadata": {},
     "output_type": "execute_result"
    }
   ],
   "source": [
    "4.2 + 2.3"
   ]
  },
  {
   "cell_type": "code",
   "execution_count": 14,
   "metadata": {},
   "outputs": [
    {
     "name": "stdout",
     "output_type": "stream",
     "text": [
      "9\n5\n14\n3.5\n49\n1\n"
     ]
    }
   ],
   "source": [
    "# Python supports the following operators on numbers.\n",
    "# \n",
    "# + addition\n",
    "# - subtraction\n",
    "# * multiplication\n",
    "# / division\n",
    "# ** exponent\n",
    "# % remainder\n",
    "# Let’s try them on integers.\n",
    "\n",
    "print(7 + 2)\n",
    "print(7 - 2)\n",
    "print(7 * 2)\n",
    "print(7 / 2)\n",
    "print(7 ** 2)\n",
    "print(7 % 2)\n",
    "\n"
   ]
  },
  {
   "cell_type": "code",
   "execution_count": 15,
   "metadata": {},
   "outputs": [
    {
     "name": "stdout",
     "output_type": "stream",
     "text": [
      "3.5\n3.5\n3.5\n"
     ]
    }
   ],
   "source": [
    "\"\"\"\n",
    "If you notice, the result 7 / 2 is 3 not 3.5. It is because \n",
    "the / operator when working on integers,\n",
    "produces only an integer. \n",
    "Lets see what happens when we try it with decimal numbers:\n",
    "\"\"\"\n",
    "\n",
    "print(7.0 / 2.0)\n",
    "print(7.0 / 2)\n",
    "print(7 / 2.0)"
   ]
  },
  {
   "cell_type": "code",
   "execution_count": 18,
   "metadata": {},
   "outputs": [
    {
     "name": "stdout",
     "output_type": "stream",
     "text": [
      "11\n10\n"
     ]
    }
   ],
   "source": [
    "#The operators can be combined.\n",
    "\n",
    "\n",
    "print(7 + 2 + 5 - 3)\n",
    "print(2 * 3 + 4)"
   ]
  },
  {
   "cell_type": "code",
   "execution_count": 19,
   "metadata": {},
   "outputs": [
    {
     "name": "stdout",
     "output_type": "stream",
     "text": [
      "14\n"
     ]
    }
   ],
   "source": [
    "\"\"\"\n",
    "It is important to understand how these compound expressions are evaluated. \n",
    "The operators have precedence, a kind of priority that determines which operator is applied first. \n",
    "Among the numerical operators, the precedence of operators is as follows, from low precedence to high.\n",
    "\"\"\"\n",
    "# +, -\n",
    "# *, /, %\n",
    "# **\n",
    "# When we compute 2 + 3 * 4, 3 * 4 is computed first as the precedence of * is higher than + and then the result is added to 2.\n",
    "\n",
    "print(2 + 3 * 4)\n"
   ]
  },
  {
   "cell_type": "code",
   "execution_count": 20,
   "metadata": {},
   "outputs": [
    {
     "name": "stdout",
     "output_type": "stream",
     "text": [
      "20\n"
     ]
    }
   ],
   "source": [
    "# We can use parenthesis to specify the explicit groups.\n",
    "\n",
    "print((2 + 3) * 4)"
   ]
  },
  {
   "cell_type": "code",
   "execution_count": 23,
   "metadata": {},
   "outputs": [],
   "source": [
    "\"\"\"\n",
    "All the operators except ** are left-associcate, that means that the application of the operators starts from left to right.\n",
    "\n",
    "1 + 2 + 3 * 4 + 5\n",
    "  ↓\n",
    "  3   + 3 * 4 + 5\n",
    "          ↓\n",
    "  3   +   12  + 5\n",
    "      ↓\n",
    "      15      + 5\n",
    "              ↓\n",
    "             20\n",
    "\"\"\"\n"
   ]
  },
  {
   "cell_type": "code",
   "execution_count": null,
   "metadata": {},
   "outputs": [],
   "source": []
  }
 ],
 "metadata": {
  "kernelspec": {
   "display_name": "Python 2",
   "language": "python",
   "name": "python2"
  },
  "language_info": {
   "codemirror_mode": {
    "name": "ipython",
    "version": 2
   },
   "file_extension": ".py",
   "mimetype": "text/x-python",
   "name": "python",
   "nbconvert_exporter": "python",
   "pygments_lexer": "ipython2",
   "version": "2.7.6"
  }
 },
 "nbformat": 4,
 "nbformat_minor": 0
}
