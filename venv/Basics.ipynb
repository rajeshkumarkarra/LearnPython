{
 "cells": [
  {
   "cell_type": "heading",
   "metadata": {
    "collapsed": true
   },
   "level": 1,
   "source": [
    "Assignments\n"
   ]
  },
  {
   "cell_type": "code",
   "execution_count": 9,
   "metadata": {},
   "outputs": [
    {
     "ename": "SyntaxError",
     "evalue": "invalid syntax (<ipython-input-9-da23b3ff8813>, line 4)",
     "traceback": [
      "\u001b[0;36m  File \u001b[0;32m\"<ipython-input-9-da23b3ff8813>\"\u001b[0;36m, line \u001b[0;32m4\u001b[0m\n\u001b[0;31m    >>> foo\u001b[0m\n\u001b[0m     ^\u001b[0m\n\u001b[0;31mSyntaxError\u001b[0m\u001b[0;31m:\u001b[0m invalid syntax\n"
     ],
     "output_type": "error"
    }
   ],
   "source": [
    "#In this example x is a variable and it’s value is 4.\n",
    "\n",
    "#If you try to use a name that is not associated with any value, python gives an error message\n",
    ">>> foo\n",
    "Traceback (most recent call last):\n",
    "  File \"<stdin>\", line 1, in ?\n",
    "NameError: name 'foo' is not defined\n",
    ">>> foo = 4\n",
    ">>> foo\n",
    "4"
   ]
  },
  {
   "cell_type": "code",
   "execution_count": 8,
   "metadata": {},
   "outputs": [
    {
     "data": {
      "text/plain": [
       "16"
      ]
     },
     "execution_count": 8,
     "metadata": {},
     "output_type": "execute_result"
    }
   ],
   "source": [
    "# One of the building blocks of programming is associating a name to a value. This is called assignment. \n",
    "# The associated name is usually called a variable.\n",
    "x=4  # type: int\n",
    "x*x"
   ]
  },
  {
   "cell_type": "code",
   "execution_count": 9,
   "metadata": {},
   "outputs": [
    {
     "ename": "SyntaxError",
     "evalue": "invalid syntax (<ipython-input-9-da23b3ff8813>, line 4)",
     "traceback": [
      "\u001b[0;36m  File \u001b[0;32m\"<ipython-input-9-da23b3ff8813>\"\u001b[0;36m, line \u001b[0;32m4\u001b[0m\n\u001b[0;31m    >>> foo\u001b[0m\n\u001b[0m     ^\u001b[0m\n\u001b[0;31mSyntaxError\u001b[0m\u001b[0;31m:\u001b[0m invalid syntax\n"
     ],
     "output_type": "error"
    }
   ],
   "source": [
    "#In this example x is a variable and it’s value is 4.\n",
    "\n",
    "#If you try to use a name that is not associated with any value, python gives an error message\n",
    ">>> foo\n",
    "Traceback (most recent call last):\n",
    "  File \"<stdin>\", line 1, in ?\n",
    "NameError: name 'foo' is not defined\n",
    ">>> foo = 4\n",
    ">>> foo\n",
    "4"
   ]
  },
  {
   "cell_type": "code",
   "execution_count": 10,
   "metadata": {},
   "outputs": [],
   "source": [
    "#If you re-assign a different value to an existing variable, \n",
    "# the new value overwrites the old value.\n",
    "x = 4\n",
    "x"
   ]
  },
  {
   "cell_type": "code",
   "execution_count": 11,
   "metadata": {},
   "outputs": [
    {
     "data": {
      "text/plain": [
       "'hello world'"
      ]
     },
     "execution_count": 11,
     "metadata": {},
     "output_type": "execute_result"
    }
   ],
   "source": [
    "x = 'hello world'\n",
    "x"
   ]
  },
  {
   "cell_type": "code",
   "execution_count": 13,
   "metadata": {},
   "outputs": [
    {
     "name": "stdout",
     "output_type": "stream",
     "text": [
      "1\n2\n"
     ]
    },
    {
     "data": {
      "text/plain": [
       "3"
      ]
     },
     "execution_count": 13,
     "metadata": {},
     "output_type": "execute_result"
    }
   ],
   "source": [
    "# It is possible to do multiple assignments at once.\n",
    "a, b = 1,2\n",
    "print(a)\n",
    "print(b)\n",
    "a+b"
   ]
  },
  {
   "cell_type": "code",
   "execution_count": 16,
   "metadata": {},
   "outputs": [
    {
     "name": "stdout",
     "output_type": "stream",
     "text": [
      "2\n1\n"
     ]
    }
   ],
   "source": [
    "# Swapping values of 2 variables in python is very simple.\n",
    "a, b = 1,2\n",
    "a,b = b, a\n",
    "print(a) # we do print as simply type a\n",
    "print(b) # we do print as simply type b"
   ]
  },
  {
   "cell_type": "code",
   "execution_count": 2,
   "metadata": {},
   "outputs": [
    {
     "name": "stdout",
     "output_type": "stream",
     "text": [
      "2 5\n"
     ]
    }
   ],
   "source": [
    "# When executing assignments, python evaluates the right hand side first and \n",
    "# then assigns those values to the variables specified in the left hand side.\n",
    "# Problem 4: What will be output of the following program.\n",
    "\n",
    "x = 4                       \n",
    "y = x+1\n",
    "x = 2\n",
    "print(x,y)"
   ]
  },
  {
   "cell_type": "code",
   "execution_count": 18,
   "metadata": {},
   "outputs": [
    {
     "name": "stdout",
     "output_type": "stream",
     "text": [
      "6 4\n"
     ]
    }
   ],
   "source": [
    "# Problem 5: What will be the output of the following program.\n",
    "\n",
    "x, y = 2,6\n",
    "x, y =y, x + 2\n",
    "print(x,y)"
   ]
  },
  {
   "cell_type": "code",
   "execution_count": 19,
   "metadata": {},
   "outputs": [
    {
     "ename": "NameError",
     "evalue": "name 'c' is not defined",
     "traceback": [
      "\u001b[0;31m----------------------------------------------------------------------\u001b[0m",
      "\u001b[0;31mNameError\u001b[0m                            Traceback (most recent call last)",
      "\u001b[0;32m<ipython-input-19-be1349bd025a>\u001b[0m in \u001b[0;36m<module>\u001b[0;34m()\u001b[0m\n\u001b[1;32m      2\u001b[0m \u001b[0;34m\u001b[0m\u001b[0m\n\u001b[1;32m      3\u001b[0m \u001b[0ma\u001b[0m\u001b[0;34m,\u001b[0m \u001b[0mb\u001b[0m \u001b[0;34m=\u001b[0m \u001b[0;36m2\u001b[0m\u001b[0;34m,\u001b[0m \u001b[0;36m3\u001b[0m\u001b[0;34m\u001b[0m\u001b[0m\n\u001b[0;32m----> 4\u001b[0;31m \u001b[0mc\u001b[0m\u001b[0;34m,\u001b[0m \u001b[0mb\u001b[0m \u001b[0;34m=\u001b[0m \u001b[0ma\u001b[0m\u001b[0;34m,\u001b[0m \u001b[0mc\u001b[0m \u001b[0;34m+\u001b[0m \u001b[0;36m1\u001b[0m\u001b[0;34m\u001b[0m\u001b[0m\n\u001b[0m\u001b[1;32m      5\u001b[0m \u001b[0mprint\u001b[0m\u001b[0;34m(\u001b[0m\u001b[0ma\u001b[0m\u001b[0;34m,\u001b[0m \u001b[0mb\u001b[0m\u001b[0;34m,\u001b[0m \u001b[0mc\u001b[0m\u001b[0;34m)\u001b[0m\u001b[0;34m\u001b[0m\u001b[0m\n",
      "\u001b[0;31mNameError\u001b[0m: name 'c' is not defined"
     ],
     "output_type": "error"
    }
   ],
   "source": [
    "# Problem 6: What will be the output of the following program.\n",
    "\n",
    "a, b = 2, 3\n",
    "c, b = a, c + 1\n",
    "print(a, b, c)"
   ]
  },
  {
   "cell_type": "heading",
   "metadata": {},
   "level": 1,
   "source": [
    "THE FORMAT METHOD"
   ]
  },
  {
   "cell_type": "code",
   "execution_count": 4,
   "metadata": {},
   "outputs": [
    {
     "name": "stdout",
     "output_type": "stream",
     "text": [
      "David was 20 years old when he wrote this book\nwhy is David playing with that python\nmy name is rajeshkumar and I am from hyderabad\n"
     ]
    }
   ],
   "source": [
    "\"\"\"\n",
    "Sometimes we may want to construct strings from other information. This is where the format() method is useful.\n",
    "\n",
    "Save the following lines as a file str_format.py:\n",
    "\"\"\"\n",
    "\n",
    "age = 20\n",
    "name = 'David'\n",
    "\n",
    "print('{0} was {1} years old when he wrote this book'.format(name, age))\n",
    "print('why is {0} playing with that python'.format(name))\n",
    "\n",
    "name='rajeshkumar'\n",
    "place='hyderabad'\n",
    "print('my name is {0} and I am from {1}'.format(name, place))"
   ]
  },
  {
   "cell_type": "heading",
   "metadata": {},
   "level": 1,
   "source": [
    "HOW IT WORKS"
   ]
  },
  {
   "cell_type": "code",
   "execution_count": 3,
   "metadata": {},
   "outputs": [
    {
     "name": "stdout",
     "output_type": "stream",
     "text": [
      "Swaroop was 20 years old when he wrote this book\nWhy is Swaroop playing with that python?\n"
     ]
    }
   ],
   "source": [
    "\"\"\"\n",
    "How It Works\n",
    "\n",
    "A string can use certain specifications and subsequently, the format method can be called to substitute those specifications with corresponding arguments to the format method.\n",
    "\n",
    "Observe the first usage where we use {0} and this corresponds to the variable name which is the first argument to the format method. Similarly, the second specification is {1} corresponding to age which is the second argument to the format method. Note that Python starts counting from 0 which means that first position is at index 0, second position is at index 1, and so on.\n",
    "\n",
    "Notice that we could have achieved the same using string concatenation:\n",
    "\n",
    "name + ' is ' + str(age) + ' years old'\n",
    "but that is much uglier and error-prone. Second, the conversion to string would be done automatically by the format method instead of the explicit conversion to strings needed in this case. Third, when using the format method, we can change the message without having to deal with the variables used and vice-versa.\n",
    "\n",
    "Also note that the numbers are optional, so you could have also written as:\n",
    "\"\"\"\n",
    "age = 20\n",
    "name = 'Swaroop'\n",
    "\n",
    "print('{} was {} years old when he wrote this book'.format(name, age))\n",
    "print('Why is {} playing with that python?'.format(name))\n",
    "\n"
   ]
  },
  {
   "cell_type": "code",
   "execution_count": 4,
   "metadata": {},
   "outputs": [
    {
     "name": "stdout",
     "output_type": "stream",
     "text": [
      "Matthew was 20 years old when he wrote this book\nwhy is Matthew playing with that python\n"
     ]
    }
   ],
   "source": [
    "\"\"\"\n",
    "which will give the same exact output as the previous program.\n",
    "\n",
    "We can also name the parameters:\n",
    "\n",
    "\"\"\"\n",
    "\n",
    "age = 20\n",
    "name = 'Matthew'\n",
    "\n",
    "print('{name} was {age} years old when he wrote this book'.format(name=name, age=age))\n",
    "print('why is {name} playing with that python'.format(name=name))"
   ]
  },
  {
   "cell_type": "code",
   "execution_count": 6,
   "metadata": {},
   "outputs": [
    {
     "name": "stdout",
     "output_type": "stream",
     "text": [
      "Luke was 20 years old when he wrote this book\nwhy is Luke playing with that python\n"
     ]
    }
   ],
   "source": [
    "\"\"\"\n",
    "which will give the same exact output as the previous program.\n",
    "\n",
    "Python 3.6 introduced a shorter way to do named parameters, called \"f-strings\":\n",
    "\n",
    "\"\"\"\n",
    "\n",
    "age = 20\n",
    "name = 'Luke'\n",
    "\n",
    "print(f'{name} was {age} years old when he wrote this book')\n",
    "print(f'why is {name} playing with that python')\n"
   ]
  },
  {
   "cell_type": "code",
   "execution_count": 5,
   "metadata": {},
   "outputs": [
    {
     "name": "stdout",
     "output_type": "stream",
     "text": [
      "0.333\n__ hello __\nMark wrote A byte of python\n"
     ]
    }
   ],
   "source": [
    "\"\"\"\n",
    "which will give the same exact output as the previous program.\n",
    "\n",
    "What Python does in the format method is that it substitutes each argument value into the place of the specification. There can be more detailed specifications \n",
    "such as:\n",
    "\n",
    "\"\"\"\n",
    "\n",
    "# decimal (.) precision of 3 for float '0.333'\n",
    "print('{0:.3f}'.format(1.0/3))\n",
    "\n",
    "# fill with underscores (_) with the text centered\n",
    "# (^) to 11 width '___hello___'\n",
    "print('{0:_^11}'.format(' hello '))\n",
    "\n",
    "# keyword-based 'mark wrote A Byte of Python'\n",
    "print('{name} wrote {book}'.format(name='Mark',book='A byte of python' ))\n"
   ]
  },
  {
   "cell_type": "heading",
   "metadata": {},
   "level": 1,
   "source": [
    "EXAMPLE 1"
   ]
  },
  {
   "cell_type": "code",
   "execution_count": 15,
   "metadata": {},
   "outputs": [
    {
     "name": "stdout",
     "output_type": "stream",
     "text": [
      "0.333\n___hello___\nJohn wrote A Byte of Python\n"
     ]
    }
   ],
   "source": [
    "# decimal (.) precision of 3 for float '0.333'\n",
    "print('{0:.3f}'.format(1.0/3))\n",
    "\n",
    "# fill with underscores (_) with the text centered\n",
    "# (^) to 11 width '__hello__'\n",
    "print('{0:_^11}'.format('hello'))\n",
    "\n",
    "# keyword-based 'John wrote A Byte of Python'\n",
    "name='John'\n",
    "book='A Byte of Python'\n",
    "print(f'{name} wrote {book}')\n"
   ]
  },
  {
   "cell_type": "heading",
   "metadata": {},
   "level": 1,
   "source": [
    "NEW LINE:\n",
    "\n"
   ]
  },
  {
   "cell_type": "code",
   "execution_count": 20,
   "metadata": {},
   "outputs": [
    {
     "name": "stdout",
     "output_type": "stream",
     "text": [
      "a\nb\n"
     ]
    }
   ],
   "source": [
    "# without end() method;\n",
    "\n",
    "print('a')\n",
    "print('b')"
   ]
  },
  {
   "cell_type": "code",
   "execution_count": 21,
   "metadata": {},
   "outputs": [
    {
     "name": "stdout",
     "output_type": "stream",
     "text": [
      "ab"
     ]
    }
   ],
   "source": [
    "\"\"\"\n",
    "Since we are discussing formatting, note that print always ends with an invisible \"new line\" character (\\n) so that repeated calls to print will all print on a separate line each. \n",
    "To prevent this newline character from being printed, you can specify that it should end with a blank:\n",
    "\n",
    "\"\"\"\n",
    "\n",
    "print('a', end='')\n",
    "print('b', end='')"
   ]
  },
  {
   "cell_type": "code",
   "execution_count": 22,
   "metadata": {},
   "outputs": [
    {
     "name": "stdout",
     "output_type": "stream",
     "text": [
      "a b c "
     ]
    }
   ],
   "source": [
    "# Or you can end with a space:\n",
    "\n",
    "print('a', end=' ')\n",
    "print('b', end=' ')\n",
    "print('c', end=' ')"
   ]
  },
  {
   "cell_type": "heading",
   "metadata": {},
   "level": 1,
   "source": [
    "ESCAPE SEQUENCES:"
   ]
  },
  {
   "cell_type": "code",
   "execution_count": 24,
   "metadata": {},
   "outputs": [
    {
     "name": "stdout",
     "output_type": "stream",
     "text": [
      "What's your name\nWhat's your name\n"
     ]
    }
   ],
   "source": [
    "\"\"\"\n",
    "Suppose, you want to have a string which contains a single quote ('), how will you specify this string? For example, \n",
    "the string is \"What's your name?\". You cannot specify 'What's your name?' because Python will be confused as to where \n",
    "the string starts and ends. So, you will have to specify that this single quote does not indicate the end of the string. \n",
    "This can be done with the help of what is called an escape sequence. You specify the single quote as \\' : notice the backslash. \n",
    "Now, you can specify the string as 'What\\'s your name?'.\n",
    "\n",
    "Another way of specifying this specific string would be \"What's your name?\" i.e. using double quotes. Similarly, you have to \n",
    "use an escape sequence for using a double quote itself in a double quoted string. Also, you have to indicate the backslash \n",
    "itself using the escape sequence \\\\.\n",
    "\n",
    "\n",
    "\n",
    "\n",
    "\"\"\"\n",
    "#Type 1\n",
    "print('What\\'s your name')\n",
    "\n",
    "#Type 2\n",
    "print(\"What's your name\")\n",
    "\n",
    "\n",
    "\n"
   ]
  },
  {
   "cell_type": "code",
   "execution_count": 26,
   "metadata": {},
   "outputs": [
    {
     "name": "stdout",
     "output_type": "stream",
     "text": [
      "This is the first line\nThis is the second line\n"
     ]
    }
   ],
   "source": [
    "# What if you wanted to specify a two-line string? One way is to use a triple-quoted string as shown previously \n",
    "# or you can use an escape sequence for the newline character - \\n to indicate the start of a new line. An example is:\n",
    "\n",
    "print('This is the first line\\nThis is the second line')"
   ]
  },
  {
   "cell_type": "code",
   "execution_count": 28,
   "metadata": {},
   "outputs": [
    {
     "name": "stdout",
     "output_type": "stream",
     "text": [
      "This is the first line.       This is the second line\n"
     ]
    }
   ],
   "source": [
    "\"\"\"\n",
    "Another useful escape sequence to know is the tab: \\t. There are many more escape sequences but I have mentioned only the most \n",
    "useful ones here.\n",
    "\n",
    "One thing to note is that in a string, a single backslash at the end of the line indicates that the string is continued in the \n",
    "next line, \n",
    "but no newline is added. For example:\n",
    "\n",
    "\"\"\"\n",
    "\n",
    "print(\"This is the first line. \\\n",
    "      This is the second line\")"
   ]
  },
  {
   "cell_type": "heading",
   "metadata": {},
   "level": 1,
   "source": [
    "RAW STRING"
   ]
  },
  {
   "cell_type": "code",
   "execution_count": 30,
   "metadata": {},
   "outputs": [
    {
     "name": "stdout",
     "output_type": "stream",
     "text": [
      "newline are indicated by \\n\n"
     ]
    }
   ],
   "source": [
    "\"\"\"\n",
    "If you need to specify some strings where no special processing such as escape sequences are handled, \n",
    "then what you need is to specify a raw string by prefixing r or R to the string. An example is:\n",
    "\n",
    "\"\"\"\n",
    "\n",
    "print(r\"newline are indicated by \\n\")\n",
    "\n",
    "#Note for Regular Expression Users\n",
    "# Always use raw strings when dealing with regular expressions. \n",
    "# Otherwise, a lot of backwhacking may be required. For example, backreferences can be referred to as '\\\\1' or r'\\1'.\n",
    "\n"
   ]
  },
  {
   "cell_type": "code",
   "execution_count": 1,
   "metadata": {},
   "outputs": [],
   "source": [
    "\"\"\"\n",
    "Using just literal constants can soon become boring - we need some way of storing any information and manipulate \n",
    "them as well. This is where variables come into the picture. Variables are exactly what the name implies - their \n",
    "value can vary, i.e., you can store anything using a variable. Variables are just parts of your computer's memory \n",
    "where you store some information. Unlike literal constants, you need some method of accessing these variables and \n",
    "hence you give them names.\n",
    "\n",
    "\"\"\"\n"
   ]
  },
  {
   "cell_type": "heading",
   "metadata": {},
   "level": 1,
   "source": [
    "IDENTIFIER NAMING"
   ]
  },
  {
   "cell_type": "code",
   "execution_count": 1,
   "metadata": {},
   "outputs": [],
   "source": [
    "\"\"\"\n",
    "Variables are examples of identifiers. Identifiers are names given to identify something. There are some rules you have to \n",
    "follow for naming identifiers:\n",
    "\n",
    "The first character of the identifier must be a letter of the alphabet (uppercase ASCII or lowercase ASCII or Unicode character) \n",
    "or an underscore (_).\n",
    "The rest of the identifier name can consist of letters (uppercase ASCII or lowercase ASCII or Unicode character), underscores (_)\n",
    "or digits (0-9).\n",
    "Identifier names are case-sensitive. For example, myname and myName are not the same. Note the lowercase n in the former and the \n",
    "uppercase N in the latter.\n",
    "Examples of valid identifier names are i, name_2_3. Examples of invalid identifier names are 2things, this is spaced out, my-name \n",
    "and >a1b2_c3.\n",
    "\n",
    "\"\"\""
   ]
  },
  {
   "cell_type": "heading",
   "metadata": {},
   "level": 1,
   "source": [
    "DATA TYPES"
   ]
  },
  {
   "cell_type": "code",
   "execution_count": 1,
   "metadata": {},
   "outputs": [],
   "source": [
    "\"\"\"\n",
    "Variables can hold values of different types called data types. The basic types are numbers and strings, \n",
    "which we have already discussed. In later chapters, we will see how to create our own types using \n",
    "\n",
    "\"\"\""
   ]
  },
  {
   "cell_type": "heading",
   "metadata": {},
   "level": 1,
   "source": [
    "OBJECT"
   ]
  },
  {
   "cell_type": "code",
   "execution_count": 1,
   "metadata": {},
   "outputs": [],
   "source": [
    "\"\"\"\n",
    "Remember, Python refers to anything used in a program as an object. This is meant in the generic sense. Instead of saying \"the \n",
    "something\"', we say \"the object\".\n",
    "\n",
    "Note for Object Oriented Programming users:\n",
    "\n",
    "Python is strongly object-oriented in the sense that everything is an object including numbers, strings and functions.\n",
    "\n",
    "We will now see how to use variables along with literal constants. Save the following example and run the program.\n",
    "\n",
    "\"\"\""
   ]
  },
  {
   "cell_type": "heading",
   "metadata": {},
   "level": 1,
   "source": [
    "HOW TO WRITE PYTHON PROGRAMS"
   ]
  },
  {
   "cell_type": "code",
   "execution_count": 1,
   "metadata": {},
   "outputs": [],
   "source": [
    "\"\"\"\n",
    "Henceforth, the standard procedure to save and run a Python program is as follows:\n",
    "\n",
    "For PyCharm\n",
    "Open PyCharm.\n",
    "Create new file with the filename mentioned.\n",
    "Type the program code given in the example.\n",
    "Right-click and run the current file.\n",
    "NOTE: Whenever you have to provide command line arguments, click on Run -> Edit Configurations and type the arguments in the Script parameters: section and click the OK button:\n",
    "\n",
    "PyCharm command line arguments...\n",
    "\n",
    "\n",
    "\n",
    "\n",
    "\"\"\"\n"
   ]
  },
  {
   "cell_type": "code",
   "execution_count": 1,
   "metadata": {},
   "outputs": [],
   "source": [
    "# testing branch-ljsfkl"
   ]
  },
  {
   "cell_type": "heading",
   "metadata": {},
   "level": 1,
   "source": [
    "Keywords in Python | Set 1"
   ]
  },
  {
   "cell_type": "code",
   "execution_count": 3,
   "metadata": {},
   "outputs": [],
   "source": [
    "\"\"\"\n",
    "Python Keywords – Introduction\n",
    "\n",
    "This article aims at providing a detailed insight to these keywords.\n",
    "\n",
    "1. True : This keyword is used to represent a boolean true. If a statement is truth, “True” is printed.\n",
    "\n",
    "2. False : This keyword is used to represent a boolean false. If a statement is False, “False” is printed.\n",
    "True and False in python are same as 1 and 0.Example:\n",
    "\n",
    "\"\"\""
   ]
  },
  {
   "cell_type": "code",
   "execution_count": 7,
   "metadata": {},
   "outputs": [
    {
     "name": "stdout",
     "output_type": "stream",
     "text": [
      "True\nTrue\n3\n1\n"
     ]
    }
   ],
   "source": [
    "print (False == 0)\n",
    "print(True == 1)\n",
    "print(True + True + True)\n",
    "print(True + False + False)\n",
    "\n"
   ]
  },
  {
   "cell_type": "code",
   "execution_count": 8,
   "metadata": {},
   "outputs": [],
   "source": [
    "'''3. None : This is a special constant used to denote a null value or a void. Its important to remember, 0, any empty container(\n",
    "e.g empty list) do not compute to None.\n",
    "It is an object of its own datatype – NoneType. It is not possible to create multiple None objects and can assign it to variables.\n",
    "\n",
    "4. and : This a logical operator in python. “and” returns true if both the operands are true. Else returns false.The truth table \n",
    "for “and” is depicted below.\n",
    "\n",
    "and\n",
    " \n",
    "\n",
    "5. or : This a logical operator in python. “or” returns true if any one of the operand is true. Else returns false.The truth table for “or” is depicted below.\n",
    "\n",
    "or\n",
    " \n",
    "\n",
    "6. not : This logical operator inverts the truth value.The truth table for “not” is depicted below.\n",
    "\n",
    "not\n",
    "\n",
    "\n",
    "\"\"\""
   ]
  },
  {
   "cell_type": "code",
   "execution_count": 16,
   "metadata": {},
   "outputs": [
    {
     "name": "stdout",
     "output_type": "stream",
     "text": [
      "False\nTrue\nTrue\nFalse\nFalse\n"
     ]
    }
   ],
   "source": [
    "print(None ==0)\n",
    "x = None\n",
    "y = None\n",
    "print(x == y)\n",
    "print(True or False)\n",
    "print(False and True)\n",
    "print(not True)"
   ]
  },
  {
   "cell_type": "code",
   "execution_count": 18,
   "metadata": {},
   "outputs": [],
   "source": [
    "\"\"\"\n",
    "7. assert : This function is used for debugging purposes. Usually used to check the correctness of code. If a statement evaluated to true, nothing happens, but when it is false, “AssertionError” is raised . One can also print a message with the error, separated by a comma.\n",
    "\n",
    "8. break : “break” is used to control the flow of loop. The statement is used to break out of loop and passes the control to the statement following immediately after loop.\n",
    "\n",
    "9. continue : “continue” is also used to control the flow of code. The keyword skips the current iteration of the loop, but does not end the loop.\n",
    "\n",
    "\n",
    "\n",
    "Illustrations of break and continue keywords can be seen in the article below.\n",
    "\n",
    "Loops and Control Statements (continue, break and pass) in Python\n",
    "10. class : This keyword is used to declare user defined classes.For more info. click here.\n",
    "\n",
    "11. def : This keyword is used to declare user defined functions.For more info. click here.\n",
    "\n",
    "12. if : It is a control statement for decision making. Truth expression forces control to go in “if” statement block.\n",
    "\n",
    "13. else : It is a control statement for decision making. False expression forces control to go in “else” statement block.\n",
    "\n",
    "14. elif : It is a control statement for decision making. It is short for “else if”\n",
    "\n",
    "if, else and elif conditional statements are explained in detail here article.\n",
    "\n",
    "15. del : del is used to delete a reference to an object. Any variable or list value can be deleted using del.\n",
    "\n",
    "\"\"\""
   ]
  },
  {
   "cell_type": "code",
   "execution_count": 19,
   "metadata": {},
   "outputs": [
    {
     "name": "stdout",
     "output_type": "stream",
     "text": [
      "The list before deleting any valuue\n[1, 2, 3]\n[1, 3]\n"
     ]
    }
   ],
   "source": [
    "# Initialising the list\n",
    "a = [1,2,3]\n",
    "\n",
    "# printing list before deleting any value \n",
    "print(\"The list before deleting any valuue\")\n",
    "print(a)\n",
    "\n",
    "#using del to delete 2nd element of list \n",
    "del a[1]\n",
    "print(a)"
   ]
  },
  {
   "cell_type": "heading",
   "metadata": {},
   "level": 1,
   "source": [
    "Keywords in Python | Set 2"
   ]
  },
  {
   "cell_type": "code",
   "execution_count": 20,
   "metadata": {},
   "outputs": [],
   "source": [
    "\"\"\"\n",
    "Python Keywords – Introduction\n",
    "Keywords in Python | Set 1\n",
    "\n",
    "More keywords:\n",
    "\n",
    "16. try : This keyword is used for exception handling, used to catch the errors in the code using the keyword except. Code in “try” block is checked, if there is any type of error, except block is executed.\n",
    "\n",
    "17. except : As explained above, this works together with “try” to catch exceptions.\n",
    "\n",
    "18. raise : Also used for exception handling to explicitly raise exceptions.\n",
    "\n",
    "19. finally : No matter what is result of the “try” block, block termed “finally” is always executed. Detailed article –Exception Handling in Python\n",
    "\n",
    "\n",
    "\n",
    "20. for : This keyword is used to control flow and for looping.\n",
    "\n",
    "21. while : Has a similar working like “for” , used to control flow and for looping.\n",
    "\n",
    "22. pass : It is the null statement in python. Nothing happens when this is encountered. This is used to prevent indentation errors and used as a placeholder\n",
    "\n",
    "Detailed Article – for, while, pass\n",
    "\n",
    "23. import : This statement is used to include a particular module into current program.\n",
    "\n",
    "24. from : Generally used with import, from is used to import particular functionality from the module imported.\n",
    "\n",
    "25. as : This keyword is used to create the alias for the module imported. i.e giving a new name to the imported module.. E.g import math as mymath.\n",
    "\n",
    "Detailed Article – import, from and as\n",
    "\n",
    "26. lambda : This keyword is used to make inline returning functions with no statements allowed internally. Detailed Article – map, filter, lambda\n",
    "\n",
    "27. return : This keyword is used to return from the function. Detailed article –  Return values in Python.\n",
    "\n",
    "\n",
    "\n",
    "28. yield : This keyword is used like return statement but is used to return a generator. Detailed Article – yield keyword\n",
    "\n",
    "29. with : This keyword is used to wrap the execution of block of code within methods defined by context manager.This keyword is not used much in day to day programming.\n",
    "\n",
    "30. in : This keyword is used to check if a container contains a value. This keyword is also used to loop through the container.\n",
    "\n",
    "31. is : This keyword is used to test object identity, i.e to check if both the objects take same memory location or not.\n",
    "\n",
    "\"\"\""
   ]
  },
  {
   "cell_type": "code",
   "execution_count": 20,
   "metadata": {},
   "outputs": [
    {
     "name": "stdout",
     "output_type": "stream",
     "text": [
      "s is a part of numbers\n"
     ]
    }
   ],
   "source": [
    "# Python code to demonstrate working of \n",
    "# in and is \n",
    "  \n",
    "# using \"in\" to check  \n",
    "if 's' in 'numbers':\n",
    "    print(\"s is a part of numbers\")\n",
    "else: print(\"s is not part of numbers\")"
   ]
  },
  {
   "cell_type": "code",
   "execution_count": 26,
   "metadata": {},
   "outputs": [
    {
     "name": "stdout",
     "output_type": "stream",
     "text": [
      "g e e k f o r g e e k s "
     ]
    }
   ],
   "source": [
    "# using \"in\" to loop through \n",
    "for i in 'geekforgeeks':\n",
    "    print(i, end=\" \")\n",
    "    \n",
    "\n"
   ]
  },
  {
   "cell_type": "code",
   "execution_count": 27,
   "metadata": {},
   "outputs": [
    {
     "name": "stdout",
     "output_type": "stream",
     "text": [
      "True\nFalse\n"
     ]
    }
   ],
   "source": [
    "# using is to check object identity \n",
    "# string is immutable( cannot be changed once alloted) \n",
    "# hence occupy same memory location \n",
    "print (' ' is ' ') \n",
    "  \n",
    "# using is to check object identity \n",
    "# dictionary is mutable( can be changed once alloted) \n",
    "# hence occupy different memory location \n",
    "print ({} is {}) "
   ]
  },
  {
   "cell_type": "code",
   "execution_count": 28,
   "metadata": {},
   "outputs": [],
   "source": [
    "\"\"\"\n",
    "32. global : This keyword is used to define a variable inside the function to be of a global scope.\n",
    "\n",
    "33. non-local : This keyword works similar to the global, but rather than global, this keyword declares a variable to point to variable of outside enclosing function, in case of nested functions.\n",
    "\n",
    "\n",
    "\n",
    "\"\"\""
   ]
  },
  {
   "cell_type": "code",
   "execution_count": 39,
   "metadata": {},
   "outputs": [
    {
     "name": "stdout",
     "output_type": "stream",
     "text": [
      "10\n5\n5\nValue of a using nonlocal is : 10\nValue of a without using nonlocal is : 5\n"
     ]
    }
   ],
   "source": [
    "# Python code to demonstrate working of \n",
    "# global and non local \n",
    "  \n",
    "#initializing variable globally \n",
    "\n",
    "a = 10\n",
    "def read():\n",
    "    print(a)\n",
    "# changing the value of globally defined variable \n",
    "\n",
    "def mod1():\n",
    "    global a\n",
    "    a = 5\n",
    "    \n",
    "# changing value of only local variable\n",
    "def mod2():\n",
    "    a =15\n",
    "    \n",
    "     \n",
    "     \n",
    "# reading initial value of a \n",
    "# prints 10 \n",
    "\n",
    "read()\n",
    "\n",
    "# calling mod 1 function to modify value \n",
    "# modifies value of global a to 5 \n",
    "\n",
    "# calling mod 1 function to modify value \n",
    "# modifies value of global a to 5 \n",
    "mod1() \n",
    "  \n",
    "# reading modified value \n",
    "# prints 5 \n",
    "read() \n",
    "  \n",
    "# calling mod 2 function to modify value \n",
    "# modifies value of local a to 15, doesn't effect global value \n",
    "mod2() \n",
    "  \n",
    "# reading modified value \n",
    "# again prints 5 \n",
    "read() \n",
    "# demonstrating non local  \n",
    "# inner loop changing the value of outer a \n",
    "# prints 10 \n",
    "# The nonlocal keyword is used to work with variables inside nested functions, where the variable should not belong to the inner function.\n",
    "print (\"Value of a using nonlocal is : \",end=\"\") \n",
    "def outer(): \n",
    "    a = 5\n",
    "    def inner(): \n",
    "        nonlocal a  \n",
    "        a = 10\n",
    "    inner() \n",
    "    print (a) \n",
    "  \n",
    "outer() \n",
    "  \n",
    "# demonstrating without non local  \n",
    "# inner loop not changing the value of outer a \n",
    "# prints 5 \n",
    "print (\"Value of a without using nonlocal is : \",end=\"\") \n",
    "def outer(): \n",
    "    a = 5\n",
    "    def inner(): \n",
    "        a = 10\n",
    "    inner() \n",
    "    print (a) \n",
    "  \n",
    "outer() \n",
    "\n",
    "  \n",
    "    "
   ]
  },
  {
   "cell_type": "heading",
   "metadata": {},
   "level": 1,
   "source": [
    "# Lifetime of a namespace :"
   ]
  },
  {
   "cell_type": "code",
   "execution_count": 1,
   "metadata": {},
   "outputs": [],
   "source": [
    "\"\"\"\n",
    "A lifetime of a namespace depends upon the scope of objects, if the scope of an object ends, the lifetime of that namespace comes to an end. Hence, it is not possible to access inner namespace’s objects from an outer namespace.\n",
    "\n",
    "Example:\n",
    "\n",
    "\"\"\""
   ]
  },
  {
   "cell_type": "code",
   "execution_count": 1,
   "metadata": {},
   "outputs": [],
   "source": [
    "# var1 is in the global namespace\n",
    "var1 = 5\n",
    "def fun1():\n",
    "    # var2 is in local namespace\n",
    "    var2=6\n",
    "    def inner_fun():\n",
    "        # var3 is in nested namespace\n",
    "        var3=7\n",
    "        "
   ]
  },
  {
   "cell_type": "code",
   "execution_count": 2,
   "metadata": {},
   "outputs": [],
   "source": [
    "\"\"\"\n",
    "But in some cases, one might be interested in updating or processing global variable only, as shown in the following example, one should mark it explicitly as global and the update or process.\n",
    "\n",
    "\"\"\""
   ]
  },
  {
   "cell_type": "code",
   "execution_count": 2,
   "metadata": {},
   "outputs": [
    {
     "name": "stdout",
     "output_type": "stream",
     "text": [
      "6\n"
     ]
    }
   ],
   "source": [
    "# Python program processing \n",
    "# global variable \n",
    "count = 5\n",
    "def some_method():\n",
    "    global count\n",
    "    count=count+1\n",
    "    print(count)\n",
    "some_method()"
   ]
  },
  {
   "cell_type": "heading",
   "metadata": {},
   "level": 1,
   "source": [
    "# Scope of Objects in Python :"
   ]
  },
  {
   "cell_type": "code",
   "execution_count": 4,
   "metadata": {},
   "outputs": [],
   "source": [
    "\"\"\"\n",
    "Scope refers to the coding region from which particular Python object is accessible. Hence one cannot access any particular object from anywhere from the code, the accessing has to be allowed by the scope of the object.\n",
    "\n",
    "Example 1:\n",
    "\n",
    "\"\"\""
   ]
  },
  {
   "cell_type": "code",
   "execution_count": 6,
   "metadata": {},
   "outputs": [
    {
     "name": "stdout",
     "output_type": "stream",
     "text": [
      "you are welcome to some_func\n"
     ]
    },
    {
     "ename": "NameError",
     "evalue": "name 'var' is not defined",
     "traceback": [
      "\u001b[0;31m----------------------------------------------------------------------\u001b[0m",
      "\u001b[0;31mNameError\u001b[0m                            Traceback (most recent call last)",
      "\u001b[0;32m<ipython-input-6-f4b4ff08470d>\u001b[0m in \u001b[0;36m<module>\u001b[0;34m()\u001b[0m\n\u001b[1;32m      5\u001b[0m     \u001b[0mprint\u001b[0m\u001b[0;34m(\u001b[0m\u001b[0;34m\"you are welcome to some_func\"\u001b[0m\u001b[0;34m)\u001b[0m\u001b[0;34m\u001b[0m\u001b[0m\n\u001b[1;32m      6\u001b[0m     \u001b[0mprint\u001b[0m\u001b[0;34m(\u001b[0m\u001b[0mvar\u001b[0m \u001b[0;34m)\u001b[0m\u001b[0;34m\u001b[0m\u001b[0m\n\u001b[0;32m----> 7\u001b[0;31m \u001b[0msome_func3\u001b[0m\u001b[0;34m(\u001b[0m\u001b[0;34m)\u001b[0m\u001b[0;34m\u001b[0m\u001b[0m\n\u001b[0m",
      "\u001b[0;32m<ipython-input-6-f4b4ff08470d>\u001b[0m in \u001b[0;36msome_func3\u001b[0;34m()\u001b[0m\n\u001b[1;32m      4\u001b[0m \u001b[0;32mdef\u001b[0m \u001b[0msome_func3\u001b[0m\u001b[0;34m(\u001b[0m\u001b[0;34m)\u001b[0m\u001b[0;34m:\u001b[0m\u001b[0;34m\u001b[0m\u001b[0m\n\u001b[1;32m      5\u001b[0m     \u001b[0mprint\u001b[0m\u001b[0;34m(\u001b[0m\u001b[0;34m\"you are welcome to some_func\"\u001b[0m\u001b[0;34m)\u001b[0m\u001b[0;34m\u001b[0m\u001b[0m\n\u001b[0;32m----> 6\u001b[0;31m     \u001b[0mprint\u001b[0m\u001b[0;34m(\u001b[0m\u001b[0mvar\u001b[0m \u001b[0;34m)\u001b[0m\u001b[0;34m\u001b[0m\u001b[0m\n\u001b[0m\u001b[1;32m      7\u001b[0m \u001b[0msome_func3\u001b[0m\u001b[0;34m(\u001b[0m\u001b[0;34m)\u001b[0m\u001b[0;34m\u001b[0m\u001b[0m\n",
      "\u001b[0;31mNameError\u001b[0m: name 'var' is not defined"
     ],
     "output_type": "error"
    }
   ],
   "source": [
    "# Python program showing \n",
    "# a scope of object \n",
    "\n",
    "def some_func3():\n",
    "    print(\"you are welcome to some_func\")\n",
    "    print(var )\n",
    "some_func3()"
   ]
  },
  {
   "cell_type": "code",
   "execution_count": 8,
   "metadata": {},
   "outputs": [
    {
     "name": "stdout",
     "output_type": "stream",
     "text": [
      "inside some_func\ninside inner func, value of var: 10\n"
     ]
    },
    {
     "ename": "NameError",
     "evalue": "name 'var' is not defined",
     "traceback": [
      "\u001b[0;31m----------------------------------------------------------------------\u001b[0m",
      "\u001b[0;31mNameError\u001b[0m                            Traceback (most recent call last)",
      "\u001b[0;32m<ipython-input-8-5a4082e58538>\u001b[0m in \u001b[0;36m<module>\u001b[0;34m()\u001b[0m\n\u001b[1;32m     10\u001b[0m     \u001b[0msome_inner_func\u001b[0m\u001b[0;34m(\u001b[0m\u001b[0;34m)\u001b[0m\u001b[0;34m\u001b[0m\u001b[0m\n\u001b[1;32m     11\u001b[0m     \u001b[0mprint\u001b[0m\u001b[0;34m(\u001b[0m\u001b[0;34m\"Try printing var from outer function:\"\u001b[0m\u001b[0;34m,\u001b[0m \u001b[0mvar\u001b[0m\u001b[0;34m)\u001b[0m\u001b[0;34m\u001b[0m\u001b[0m\n\u001b[0;32m---> 12\u001b[0;31m \u001b[0msome_func\u001b[0m\u001b[0;34m(\u001b[0m\u001b[0;34m)\u001b[0m\u001b[0;34m\u001b[0m\u001b[0m\n\u001b[0m",
      "\u001b[0;32m<ipython-input-8-5a4082e58538>\u001b[0m in \u001b[0;36msome_func\u001b[0;34m()\u001b[0m\n\u001b[1;32m      9\u001b[0m         \u001b[0mprint\u001b[0m\u001b[0;34m(\u001b[0m\u001b[0;34m\"inside inner func, value of var:\"\u001b[0m\u001b[0;34m,\u001b[0m \u001b[0mvar\u001b[0m\u001b[0;34m)\u001b[0m\u001b[0;34m\u001b[0m\u001b[0m\n\u001b[1;32m     10\u001b[0m     \u001b[0msome_inner_func\u001b[0m\u001b[0;34m(\u001b[0m\u001b[0;34m)\u001b[0m\u001b[0;34m\u001b[0m\u001b[0m\n\u001b[0;32m---> 11\u001b[0;31m     \u001b[0mprint\u001b[0m\u001b[0;34m(\u001b[0m\u001b[0;34m\"Try printing var from outer function:\"\u001b[0m\u001b[0;34m,\u001b[0m \u001b[0mvar\u001b[0m\u001b[0;34m)\u001b[0m\u001b[0;34m\u001b[0m\u001b[0m\n\u001b[0m\u001b[1;32m     12\u001b[0m \u001b[0msome_func\u001b[0m\u001b[0;34m(\u001b[0m\u001b[0;34m)\u001b[0m\u001b[0;34m\u001b[0m\u001b[0m\n",
      "\u001b[0;31mNameError\u001b[0m: name 'var' is not defined"
     ],
     "output_type": "error"
    }
   ],
   "source": [
    "# Example 2\n",
    "# Python program showing \n",
    "# a scope of object \n",
    "\n",
    "def some_func():\n",
    "    print(\"inside some_func\")\n",
    "    def some_inner_func():\n",
    "        var =10\n",
    "        print(\"inside inner func, value of var:\", var)\n",
    "    some_inner_func()\n",
    "    print(\"Try printing var from outer function:\", var)\n",
    "some_func()"
   ]
  },
  {
   "cell_type": "code",
   "execution_count": 7,
   "metadata": {},
   "outputs": [
    {
     "name": "stdout",
     "output_type": "stream",
     "text": [
      "True\n"
     ]
    }
   ],
   "source": [
    "x=None\n",
    "y=None\n",
    "print(x==y)"
   ]
  },
  {
   "cell_type": "markdown",
   "metadata": {},
   "source": [
    "Loops and Control Statements (continue, break and pass) in Python\n",
    "Python programming language provides following types of loops to handle looping requirements.\n",
    "\n",
    "While Loop\n"
   ]
  },
  {
   "cell_type": "markdown",
   "metadata": {},
   "source": [
    "Syntax :\n",
    "while expression:\n",
    "    statement(s)\n",
    "In Python, all the statements indented by the same number of character spaces after a programming construct are considered to be part of a single block of code. Python uses indentation as its method of grouping statements."
   ]
  },
  {
   "cell_type": "code",
   "execution_count": 8,
   "metadata": {},
   "outputs": [
    {
     "name": "stdout",
     "output_type": "stream",
     "text": [
      "hello world\nhello world\nhello world\n"
     ]
    }
   ],
   "source": [
    "# Printing of hello world 3 times\n",
    "count=0\n",
    "while(count<3):\n",
    "    count=count+1\n",
    "    print(\"hello world\")\n",
    "    "
   ]
  },
  {
   "cell_type": "markdown",
   "metadata": {},
   "source": [
    "See this for an example where while loop is used for iterators. As mentioned in the article, it is not recommended to use while loop for iterators in python.\n",
    "\n",
    "\n",
    "\n",
    " \n",
    "\n",
    "For in Loop\n",
    "\n",
    "In Python, there is no C style for loop, i.e., for (i=0; i<n; i++). There is “for in” loop which is similar to for each loop in other languages.\n",
    "Syntax:"
   ]
  },
  {
   "cell_type": "markdown",
   "metadata": {},
   "source": [
    "Syntax:\n",
    "\n",
    "for iterator_var in sequence:\n",
    "    statements(s)\n",
    "It can be used to iterate over iterators and a range."
   ]
  },
  {
   "cell_type": "code",
   "execution_count": 20,
   "metadata": {},
   "outputs": [
    {
     "name": "stdout",
     "output_type": "stream",
     "text": [
      "Iterating over a list\ngeeks\nfor\ngeeks\n\n Iterating over a tuple (immutable) \ngeeks\nfor\ngeeks\nIterating over a String \nG e e k s Iterating over dictionary \nxyz 123\nabc 456\n"
     ]
    }
   ],
   "source": [
    "# Iterating over a list \n",
    "print(\"Iterating over a list\")\n",
    "l =[\"geeks\", \"for\", \"geeks\"]\n",
    "for i in l:\n",
    "    print(i)\n",
    "    \n",
    "# Iterating over a tuple (immutable) \n",
    "print(\"\\n Iterating over a tuple (immutable) \")\n",
    "t =(\"geeks\", \"for\", \"geeks\")\n",
    "for i in t:\n",
    "    print(i)\n",
    "\n",
    "# Iterating over a String \n",
    "print(\"Iterating over a String \")\n",
    "s=\"Geeks\"\n",
    "for i in s:\n",
    "    print(i, end=\" \")\n",
    "# end=() is used to print horizontally\n",
    "\n",
    "# Iterating over dictionary \n",
    "print(\"Iterating over dictionary \")\n",
    "d = dict()\n",
    "d['xyz']=123\n",
    "d['abc']=456\n",
    "for i in d:\n",
    "    print(\"%s %d\" %(i, d[i]))\n",
    "    \n",
    "\n"
   ]
  },
  {
   "cell_type": "code",
   "execution_count": 22,
   "metadata": {},
   "outputs": [
    {
     "name": "stdout",
     "output_type": "stream",
     "text": [
      " Iterating over dictionary \nabc 123\ndef 456\n"
     ]
    }
   ],
   "source": [
    "# Iterating over dictionary \n",
    "print(\" Iterating over dictionary \")\n",
    "d = dict()\n",
    "d['abc']=123\n",
    "d['def']=456\n",
    "for i in d:\n",
    "    print(\"%s %d\" %(i, d[i]))"
   ]
  },
  {
   "cell_type": "markdown",
   "metadata": {},
   "source": [
    "Python Main Function with Examples: Understand __main__\n",
    "Before we jump more into Python coding, we get familiarize with Python Main function and its importance.\n",
    "\n",
    "Consider the following code\n",
    "\n",
    "def main():\n",
    "     print \"hello world!\"\n",
    "print \"Guru99\"\n",
    "Here we got two pieces of print one is defined within a main function that is \"Hello World\" and the other is independent which is \"Guru99\". When you run the function def main (): \n",
    "\n",
    "\n",
    "Only \"Guru99\" prints out\n",
    "and not the code \"Hello World.\""
   ]
  },
  {
   "cell_type": "code",
   "execution_count": 23,
   "metadata": {},
   "outputs": [
    {
     "name": "stdout",
     "output_type": "stream",
     "text": [
      "hello rajesh\n"
     ]
    }
   ],
   "source": [
    "def main():\n",
    "    print(\"hello world\")\n",
    "print(\"hello rajesh\")\n",
    "    "
   ]
  },
  {
   "cell_type": "code",
   "execution_count": 25,
   "metadata": {},
   "outputs": [
    {
     "name": "stdout",
     "output_type": "stream",
     "text": [
      "hello world\nhello rajesh\n"
     ]
    }
   ],
   "source": [
    "def main():\n",
    "    print(\"hello world\")\n",
    "    \n",
    "main()\n",
    "print(\"hello rajesh\")"
   ]
  },
  {
   "cell_type": "code",
   "execution_count": 24,
   "metadata": {},
   "outputs": [
    {
     "name": "stdout",
     "output_type": "stream",
     "text": [
      "hello world\nhello rajesh\n"
     ]
    }
   ],
   "source": [
    "def main():\n",
    "    print(\"hello world\")\n",
    "    \n",
    "if __name__ ==\"__main__\":\n",
    "    main()\n",
    "    \n",
    "print(\"hello rajesh\")"
   ]
  },
  {
   "cell_type": "markdown",
   "metadata": {},
   "source": []
  },
  {
   "cell_type": "code",
   "execution_count": 25,
   "metadata": {},
   "outputs": [
    {
     "name": "stdout",
     "output_type": "stream",
     "text": [
      "hello world\nhello rajesh\n"
     ]
    }
   ],
   "source": [
    "def main():\n",
    "    print(\"hello world\")\n",
    "    \n",
    "main()\n",
    "print(\"hello rajesh\")"
   ]
  },
  {
   "cell_type": "code",
   "execution_count": null,
   "metadata": {},
   "outputs": [],
   "source": []
  }
 ],
 "metadata": {
  "kernelspec": {
   "display_name": "Python 2",
   "language": "python",
   "name": "python2"
  },
  "language_info": {
   "codemirror_mode": {
    "name": "ipython",
    "version": 2
   },
   "file_extension": ".py",
   "mimetype": "text/x-python",
   "name": "python",
   "nbconvert_exporter": "python",
   "pygments_lexer": "ipython2",
   "version": "2.7.6"
  }
 },
 "nbformat": 4,
 "nbformat_minor": 0
}
