{
 "cells": [
  {
   "cell_type": "heading",
   "metadata": {
    "collapsed": true
   },
   "level": 1,
   "source": [
    "Assignments\n"
   ]
  },
  {
   "cell_type": "code",
   "execution_count": 9,
   "metadata": {},
   "outputs": [
    {
     "ename": "SyntaxError",
     "evalue": "invalid syntax (<ipython-input-9-da23b3ff8813>, line 4)",
     "traceback": [
      "\u001b[0;36m  File \u001b[0;32m\"<ipython-input-9-da23b3ff8813>\"\u001b[0;36m, line \u001b[0;32m4\u001b[0m\n\u001b[0;31m    >>> foo\u001b[0m\n\u001b[0m     ^\u001b[0m\n\u001b[0;31mSyntaxError\u001b[0m\u001b[0;31m:\u001b[0m invalid syntax\n"
     ],
     "output_type": "error"
    }
   ],
   "source": [
    "#In this example x is a variable and it’s value is 4.\n",
    "\n",
    "#If you try to use a name that is not associated with any value, python gives an error message\n",
    ">>> foo\n",
    "Traceback (most recent call last):\n",
    "  File \"<stdin>\", line 1, in ?\n",
    "NameError: name 'foo' is not defined\n",
    ">>> foo = 4\n",
    ">>> foo\n",
    "4"
   ]
  },
  {
   "cell_type": "code",
   "execution_count": 8,
   "metadata": {},
   "outputs": [
    {
     "data": {
      "text/plain": [
       "16"
      ]
     },
     "execution_count": 8,
     "metadata": {},
     "output_type": "execute_result"
    }
   ],
   "source": [
    "# One of the building blocks of programming is associating a name to a value. This is called assignment. \n",
    "# The associated name is usually called a variable.\n",
    "x=4  # type: int\n",
    "x*x"
   ]
  },
  {
   "cell_type": "code",
   "execution_count": 9,
   "metadata": {},
   "outputs": [
    {
     "ename": "SyntaxError",
     "evalue": "invalid syntax (<ipython-input-9-da23b3ff8813>, line 4)",
     "traceback": [
      "\u001b[0;36m  File \u001b[0;32m\"<ipython-input-9-da23b3ff8813>\"\u001b[0;36m, line \u001b[0;32m4\u001b[0m\n\u001b[0;31m    >>> foo\u001b[0m\n\u001b[0m     ^\u001b[0m\n\u001b[0;31mSyntaxError\u001b[0m\u001b[0;31m:\u001b[0m invalid syntax\n"
     ],
     "output_type": "error"
    }
   ],
   "source": [
    "#In this example x is a variable and it’s value is 4.\n",
    "\n",
    "#If you try to use a name that is not associated with any value, python gives an error message\n",
    ">>> foo\n",
    "Traceback (most recent call last):\n",
    "  File \"<stdin>\", line 1, in ?\n",
    "NameError: name 'foo' is not defined\n",
    ">>> foo = 4\n",
    ">>> foo\n",
    "4"
   ]
  },
  {
   "cell_type": "code",
   "execution_count": 10,
   "metadata": {},
   "outputs": [],
   "source": [
    "#If you re-assign a different value to an existing variable, \n",
    "# the new value overwrites the old value.\n",
    "x = 4\n",
    "x"
   ]
  },
  {
   "cell_type": "code",
   "execution_count": 11,
   "metadata": {},
   "outputs": [
    {
     "data": {
      "text/plain": [
       "'hello world'"
      ]
     },
     "execution_count": 11,
     "metadata": {},
     "output_type": "execute_result"
    }
   ],
   "source": [
    "x = 'hello world'\n",
    "x"
   ]
  },
  {
   "cell_type": "code",
   "execution_count": 13,
   "metadata": {},
   "outputs": [
    {
     "name": "stdout",
     "output_type": "stream",
     "text": [
      "1\n2\n"
     ]
    },
    {
     "data": {
      "text/plain": [
       "3"
      ]
     },
     "execution_count": 13,
     "metadata": {},
     "output_type": "execute_result"
    }
   ],
   "source": [
    "# It is possible to do multiple assignments at once.\n",
    "a, b = 1,2\n",
    "print(a)\n",
    "print(b)\n",
    "a+b"
   ]
  },
  {
   "cell_type": "code",
   "execution_count": 16,
   "metadata": {},
   "outputs": [
    {
     "name": "stdout",
     "output_type": "stream",
     "text": [
      "2\n1\n"
     ]
    }
   ],
   "source": [
    "# Swapping values of 2 variables in python is very simple.\n",
    "a, b = 1,2\n",
    "a,b = b, a\n",
    "print(a) # we do print as simply type a\n",
    "print(b) # we do print as simply type b"
   ]
  },
  {
   "cell_type": "code",
   "execution_count": 17,
   "metadata": {},
   "outputs": [
    {
     "name": "stdout",
     "output_type": "stream",
     "text": [
      "2 5\n"
     ]
    }
   ],
   "source": [
    "# When executing assignments, python evaluates the right hand side first and \n",
    "# then assigns those values to the variables specified in the left hand side.\n",
    "# Problem 4: What will be output of the following program.\n",
    "\n",
    "x = 4\n",
    "y = x+1\n",
    "x = 2\n",
    "print(x,y)"
   ]
  },
  {
   "cell_type": "code",
   "execution_count": 18,
   "metadata": {},
   "outputs": [
    {
     "name": "stdout",
     "output_type": "stream",
     "text": [
      "6 4\n"
     ]
    }
   ],
   "source": [
    "# Problem 5: What will be the output of the following program.\n",
    "\n",
    "x, y = 2,6\n",
    "x, y =y, x + 2\n",
    "print(x,y)"
   ]
  },
  {
   "cell_type": "code",
   "execution_count": 19,
   "metadata": {},
   "outputs": [
    {
     "ename": "NameError",
     "evalue": "name 'c' is not defined",
     "traceback": [
      "\u001b[0;31m----------------------------------------------------------------------\u001b[0m",
      "\u001b[0;31mNameError\u001b[0m                            Traceback (most recent call last)",
      "\u001b[0;32m<ipython-input-19-be1349bd025a>\u001b[0m in \u001b[0;36m<module>\u001b[0;34m()\u001b[0m\n\u001b[1;32m      2\u001b[0m \u001b[0;34m\u001b[0m\u001b[0m\n\u001b[1;32m      3\u001b[0m \u001b[0ma\u001b[0m\u001b[0;34m,\u001b[0m \u001b[0mb\u001b[0m \u001b[0;34m=\u001b[0m \u001b[0;36m2\u001b[0m\u001b[0;34m,\u001b[0m \u001b[0;36m3\u001b[0m\u001b[0;34m\u001b[0m\u001b[0m\n\u001b[0;32m----> 4\u001b[0;31m \u001b[0mc\u001b[0m\u001b[0;34m,\u001b[0m \u001b[0mb\u001b[0m \u001b[0;34m=\u001b[0m \u001b[0ma\u001b[0m\u001b[0;34m,\u001b[0m \u001b[0mc\u001b[0m \u001b[0;34m+\u001b[0m \u001b[0;36m1\u001b[0m\u001b[0;34m\u001b[0m\u001b[0m\n\u001b[0m\u001b[1;32m      5\u001b[0m \u001b[0mprint\u001b[0m\u001b[0;34m(\u001b[0m\u001b[0ma\u001b[0m\u001b[0;34m,\u001b[0m \u001b[0mb\u001b[0m\u001b[0;34m,\u001b[0m \u001b[0mc\u001b[0m\u001b[0;34m)\u001b[0m\u001b[0;34m\u001b[0m\u001b[0m\n",
      "\u001b[0;31mNameError\u001b[0m: name 'c' is not defined"
     ],
     "output_type": "error"
    }
   ],
   "source": [
    "# Problem 6: What will be the output of the following program.\n",
    "\n",
    "a, b = 2, 3\n",
    "c, b = a, c + 1\n",
    "print(a, b, c)"
   ]
  },
  {
   "cell_type": "heading",
   "metadata": {},
   "level": 1,
   "source": [
    "THE FORMAT METHOD"
   ]
  },
  {
   "cell_type": "code",
   "execution_count": 2,
   "metadata": {},
   "outputs": [
    {
     "name": "stdout",
     "output_type": "stream",
     "text": [
      "David was 20 years old when he wrote this book\nwhy is David playing with that python\n"
     ]
    }
   ],
   "source": [
    "\"\"\"\n",
    "Sometimes we may want to construct strings from other information. This is where the format() method is useful.\n",
    "\n",
    "Save the following lines as a file str_format.py:\n",
    "\"\"\"\n",
    "\n",
    "age = 20\n",
    "name = 'David'\n",
    "\n",
    "print('{0} was {1} years old when he wrote this book'.format(name, age))\n",
    "print('why is {0} playing with that python'.format(name))"
   ]
  },
  {
   "cell_type": "heading",
   "metadata": {},
   "level": 1,
   "source": [
    "HOW IT WORKS"
   ]
  },
  {
   "cell_type": "code",
   "execution_count": 3,
   "metadata": {},
   "outputs": [
    {
     "name": "stdout",
     "output_type": "stream",
     "text": [
      "Swaroop was 20 years old when he wrote this book\nWhy is Swaroop playing with that python?\n"
     ]
    }
   ],
   "source": [
    "\"\"\"\n",
    "How It Works\n",
    "\n",
    "A string can use certain specifications and subsequently, the format method can be called to substitute those specifications with corresponding arguments to the format method.\n",
    "\n",
    "Observe the first usage where we use {0} and this corresponds to the variable name which is the first argument to the format method. Similarly, the second specification is {1} corresponding to age which is the second argument to the format method. Note that Python starts counting from 0 which means that first position is at index 0, second position is at index 1, and so on.\n",
    "\n",
    "Notice that we could have achieved the same using string concatenation:\n",
    "\n",
    "name + ' is ' + str(age) + ' years old'\n",
    "but that is much uglier and error-prone. Second, the conversion to string would be done automatically by the format method instead of the explicit conversion to strings needed in this case. Third, when using the format method, we can change the message without having to deal with the variables used and vice-versa.\n",
    "\n",
    "Also note that the numbers are optional, so you could have also written as:\n",
    "\"\"\"\n",
    "age = 20\n",
    "name = 'Swaroop'\n",
    "\n",
    "print('{} was {} years old when he wrote this book'.format(name, age))\n",
    "print('Why is {} playing with that python?'.format(name))\n",
    "\n"
   ]
  },
  {
   "cell_type": "code",
   "execution_count": 4,
   "metadata": {},
   "outputs": [
    {
     "name": "stdout",
     "output_type": "stream",
     "text": [
      "Matthew was 20 years old when he wrote this book\nwhy is Matthew playing with that python\n"
     ]
    }
   ],
   "source": [
    "\"\"\"\n",
    "which will give the same exact output as the previous program.\n",
    "\n",
    "We can also name the parameters:\n",
    "\n",
    "\"\"\"\n",
    "\n",
    "age = 20\n",
    "name = 'Matthew'\n",
    "\n",
    "print('{name} was {age} years old when he wrote this book'.format(name=name, age=age))\n",
    "print('why is {name} playing with that python'.format(name=name))"
   ]
  },
  {
   "cell_type": "code",
   "execution_count": 6,
   "metadata": {},
   "outputs": [
    {
     "name": "stdout",
     "output_type": "stream",
     "text": [
      "Luke was 20 years old when he wrote this book\nwhy is Luke playing with that python\n"
     ]
    }
   ],
   "source": [
    "\"\"\"\n",
    "which will give the same exact output as the previous program.\n",
    "\n",
    "Python 3.6 introduced a shorter way to do named parameters, called \"f-strings\":\n",
    "\n",
    "\"\"\"\n",
    "\n",
    "age = 20\n",
    "name = 'Luke'\n",
    "\n",
    "print(f'{name} was {age} years old when he wrote this book')\n",
    "print(f'why is {name} playing with that python')\n"
   ]
  },
  {
   "cell_type": "code",
   "execution_count": 13,
   "metadata": {},
   "outputs": [
    {
     "name": "stdout",
     "output_type": "stream",
     "text": [
      "0.333\n__hello ___\nMark wrote A byte of python\n"
     ]
    }
   ],
   "source": [
    "\"\"\"\n",
    "which will give the same exact output as the previous program.\n",
    "\n",
    "What Python does in the format method is that it substitutes each argument value into the place of the specification. There can be more detailed specifications such as:\n",
    "\n",
    "\"\"\"\n",
    "\n",
    "# decimal (.) precision of 3 for float '0.333'\n",
    "print('{0:.3f}'.format(1.0/3))\n",
    "\n",
    "# fill with underscores (_) with the text centered\n",
    "# (^) to 11 width '___hello___'\n",
    "print('{0:_^11}'.format('hello '))\n",
    "\n",
    "# keyword-based 'Swaroop wrote A Byte of Python'\n",
    "print('{name} wrote {book}'.format(name='Mark',book='A byte of python' ))\n"
   ]
  },
  {
   "cell_type": "heading",
   "metadata": {},
   "level": 1,
   "source": [
    "EXAMPLE 1"
   ]
  },
  {
   "cell_type": "code",
   "execution_count": 15,
   "metadata": {},
   "outputs": [
    {
     "name": "stdout",
     "output_type": "stream",
     "text": [
      "0.333\n___hello___\nJohn wrote A Byte of Python\n"
     ]
    }
   ],
   "source": [
    "# decimal (.) precision of 3 for float '0.333'\n",
    "print('{0:.3f}'.format(1.0/3))\n",
    "\n",
    "# fill with underscores (_) with the text centered\n",
    "# (^) to 11 width '__hello__'\n",
    "print('{0:_^11}'.format('hello'))\n",
    "\n",
    "# keyword-based 'John wrote A Byte of Python'\n",
    "name='John'\n",
    "book='A Byte of Python'\n",
    "print(f'{name} wrote {book}')\n"
   ]
  },
  {
   "cell_type": "heading",
   "metadata": {},
   "level": 1,
   "source": [
    "NEW LINE:\n",
    "\n"
   ]
  },
  {
   "cell_type": "code",
   "execution_count": 20,
   "metadata": {},
   "outputs": [
    {
     "name": "stdout",
     "output_type": "stream",
     "text": [
      "a\nb\n"
     ]
    }
   ],
   "source": [
    "# without end() method;\n",
    "\n",
    "print('a')\n",
    "print('b')"
   ]
  },
  {
   "cell_type": "code",
   "execution_count": 21,
   "metadata": {},
   "outputs": [
    {
     "name": "stdout",
     "output_type": "stream",
     "text": [
      "ab"
     ]
    }
   ],
   "source": [
    "\"\"\"\n",
    "Since we are discussing formatting, note that print always ends with an invisible \"new line\" character (\\n) so that repeated calls to print will all print on a separate line each. \n",
    "To prevent this newline character from being printed, you can specify that it should end with a blank:\n",
    "\n",
    "\"\"\"\n",
    "\n",
    "print('a', end='')\n",
    "print('b', end='')"
   ]
  },
  {
   "cell_type": "code",
   "execution_count": 22,
   "metadata": {},
   "outputs": [
    {
     "name": "stdout",
     "output_type": "stream",
     "text": [
      "a b c "
     ]
    }
   ],
   "source": [
    "# Or you can end with a space:\n",
    "\n",
    "print('a', end=' ')\n",
    "print('b', end=' ')\n",
    "print('c', end=' ')"
   ]
  },
  {
   "cell_type": "heading",
   "metadata": {},
   "level": 1,
   "source": [
    "ESCAPE SEQUENCES:"
   ]
  },
  {
   "cell_type": "code",
   "execution_count": 24,
   "metadata": {},
   "outputs": [
    {
     "name": "stdout",
     "output_type": "stream",
     "text": [
      "What's your name\nWhat's your name\n"
     ]
    }
   ],
   "source": [
    "\"\"\"\n",
    "Suppose, you want to have a string which contains a single quote ('), how will you specify this string? For example, the string is \"What's your name?\". You cannot specify 'What's your name?' because Python will be confused as to where the string starts and ends. So, you will have to specify that this single quote does not indicate the end of the string. This can be done with the help of what is called an escape sequence. You specify the single quote as \\' : notice the backslash. Now, you can specify the string as 'What\\'s your name?'.\n",
    "\n",
    "Another way of specifying this specific string would be \"What's your name?\" i.e. using double quotes. Similarly, you have to use an escape sequence for using a double quote itself in a double quoted string. Also, you have to indicate the backslash itself using the escape sequence \\\\.\n",
    "\n",
    "\n",
    "\n",
    "\n",
    "\"\"\"\n",
    "#Type 1\n",
    "print('What\\'s your name')\n",
    "\n",
    "#Type 2\n",
    "print(\"What's your name\")\n",
    "\n"
   ]
  },
  {
   "cell_type": "code",
   "execution_count": 26,
   "metadata": {},
   "outputs": [
    {
     "name": "stdout",
     "output_type": "stream",
     "text": [
      "This is the first line\nThis is the second line\n"
     ]
    }
   ],
   "source": [
    "# What if you wanted to specify a two-line string? One way is to use a triple-quoted string as shown previously \n",
    "# or you can use an escape sequence for the newline character - \\n to indicate the start of a new line. An example is:\n",
    "\n",
    "print('This is the first line\\nThis is the second line')"
   ]
  },
  {
   "cell_type": "code",
   "execution_count": 28,
   "metadata": {},
   "outputs": [
    {
     "name": "stdout",
     "output_type": "stream",
     "text": [
      "This is the first line.       This is the second line\n"
     ]
    }
   ],
   "source": [
    "\"\"\"\n",
    "Another useful escape sequence to know is the tab: \\t. There are many more escape sequences but I have mentioned only the most useful ones here.\n",
    "\n",
    "One thing to note is that in a string, a single backslash at the end of the line indicates that the string is continued in the next line, \n",
    "but no newline is added. For example:\n",
    "\n",
    "\"\"\"\n",
    "\n",
    "print(\"This is the first line. \\\n",
    "      This is the second line\")"
   ]
  },
  {
   "cell_type": "heading",
   "metadata": {},
   "level": 1,
   "source": [
    "RAW STRING"
   ]
  },
  {
   "cell_type": "code",
   "execution_count": 30,
   "metadata": {},
   "outputs": [
    {
     "name": "stdout",
     "output_type": "stream",
     "text": [
      "newline are indicated by \\n\n"
     ]
    }
   ],
   "source": [
    "\"\"\"\n",
    "If you need to specify some strings where no special processing such as escape sequences are handled, \n",
    "then what you need is to specify a raw string by prefixing r or R to the string. An example is:\n",
    "\n",
    "\"\"\"\n",
    "\n",
    "print(r\"newline are indicated by \\n\")\n",
    "\n",
    "#Note for Regular Expression Users\n",
    "# Always use raw strings when dealing with regular expressions. \n",
    "# Otherwise, a lot of backwhacking may be required. For example, backreferences can be referred to as '\\\\1' or r'\\1'.\n",
    "\n"
   ]
  },
  {
   "cell_type": "code",
   "execution_count": 1,
   "metadata": {},
   "outputs": [],
   "source": [
    "\"\"\"\n",
    "Using just literal constants can soon become boring - we need some way of storing any information and manipulate \n",
    "them as well. This is where variables come into the picture. Variables are exactly what the name implies - their \n",
    "value can vary, i.e., you can store anything using a variable. Variables are just parts of your computer's memory \n",
    "where you store some information. Unlike literal constants, you need some method of accessing these variables and \n",
    "hence you give them names.\n",
    "\n",
    "\"\"\"\n"
   ]
  },
  {
   "cell_type": "heading",
   "metadata": {},
   "level": 1,
   "source": [
    "IDENTIFIER NAMING"
   ]
  },
  {
   "cell_type": "code",
   "execution_count": 1,
   "metadata": {},
   "outputs": [],
   "source": [
    "\"\"\"\n",
    "Variables are examples of identifiers. Identifiers are names given to identify something. There are some rules you have to follow for naming identifiers:\n",
    "\n",
    "The first character of the identifier must be a letter of the alphabet (uppercase ASCII or lowercase ASCII or Unicode character) or an underscore (_).\n",
    "The rest of the identifier name can consist of letters (uppercase ASCII or lowercase ASCII or Unicode character), underscores (_) or digits (0-9).\n",
    "Identifier names are case-sensitive. For example, myname and myName are not the same. Note the lowercase n in the former and the uppercase N in the latter.\n",
    "Examples of valid identifier names are i, name_2_3. Examples of invalid identifier names are 2things, this is spaced out, my-name and >a1b2_c3.\n",
    "\n",
    "\"\"\""
   ]
  },
  {
   "cell_type": "heading",
   "metadata": {},
   "level": 1,
   "source": [
    "DATA TYPES"
   ]
  },
  {
   "cell_type": "code",
   "execution_count": 1,
   "metadata": {},
   "outputs": [],
   "source": [
    "\"\"\"\n",
    "Variables can hold values of different types called data types. The basic types are numbers and strings, \n",
    "which we have already discussed. In later chapters, we will see how to create our own types using \n",
    "\n",
    "\"\"\""
   ]
  },
  {
   "cell_type": "heading",
   "metadata": {},
   "level": 1,
   "source": [
    "OBJECT"
   ]
  },
  {
   "cell_type": "code",
   "execution_count": 1,
   "metadata": {},
   "outputs": [],
   "source": [
    "\"\"\"\n",
    "Remember, Python refers to anything used in a program as an object. This is meant in the generic sense. Instead of saying \"the something\"', we say \"the object\".\n",
    "\n",
    "Note for Object Oriented Programming users:\n",
    "\n",
    "Python is strongly object-oriented in the sense that everything is an object including numbers, strings and functions.\n",
    "\n",
    "We will now see how to use variables along with literal constants. Save the following example and run the program.\n",
    "\n",
    "\"\"\""
   ]
  },
  {
   "cell_type": "heading",
   "metadata": {},
   "level": 1,
   "source": [
    "HOW TO WRITE PYTHON PROGRAMS"
   ]
  },
  {
   "cell_type": "code",
   "execution_count": 1,
   "metadata": {},
   "outputs": [],
   "source": [
    "\"\"\"\n",
    "Henceforth, the standard procedure to save and run a Python program is as follows:\n",
    "\n",
    "For PyCharm\n",
    "Open PyCharm.\n",
    "Create new file with the filename mentioned.\n",
    "Type the program code given in the example.\n",
    "Right-click and run the current file.\n",
    "NOTE: Whenever you have to provide command line arguments, click on Run -> Edit Configurations and type the arguments in the Script parameters: section and click the OK button:\n",
    "\n",
    "PyCharm command line arguments...\n",
    "\n",
    "\n",
    "\n",
    "\"\"\"\n"
   ]
  },
  {
   "cell_type": "code",
   "execution_count": null,
   "metadata": {},
   "outputs": [],
   "source": []
  }
 ],
 "metadata": {
  "kernelspec": {
   "display_name": "Python 2",
   "language": "python",
   "name": "python2"
  },
  "language_info": {
   "codemirror_mode": {
    "name": "ipython",
    "version": 2
   },
   "file_extension": ".py",
   "mimetype": "text/x-python",
   "name": "python",
   "nbconvert_exporter": "python",
   "pygments_lexer": "ipython2",
   "version": "2.7.6"
  }
 },
 "nbformat": 4,
 "nbformat_minor": 0
}
