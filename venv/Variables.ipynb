{
 "cells": [
  {
   "cell_type": "markdown",
   "metadata": {
    "collapsed": true
   },
   "source": [
    "Python Variables: Declare, Concatenate, Global & Local\n",
    "What is a Variable in Python?\n",
    "A Python variable is a reserved memory location to store values. In other words, a variable in a python program gives data to the computer for processing.\n",
    "\n",
    "Every value in Python has a datatype. Different data types in Python are Numbers, List, Tuple, Strings, Dictionary, etc. Variables can be declared by any name or even alphabets like a, aa, abc, etc.\n",
    "\n",
    "In this tutorial, we will learn,\n",
    "\n",
    "How to Declare and use a Variable\n",
    "Re-declare a Variable\n",
    "Concatenate Variables\n",
    "Local & Global Variables\n",
    "Delete a variable\n",
    "How to Declare and use a Variable\n",
    "Let see an example. We will declare variable \"a\" and print it."
   ]
  },
  {
   "cell_type": "code",
   "execution_count": 2,
   "metadata": {},
   "outputs": [
    {
     "name": "stdout",
     "output_type": "stream",
     "text": [
      "1\nrajesh\n"
     ]
    }
   ],
   "source": [
    "# Declare a variable and initialize it\n",
    "f = 1\n",
    "print(f)\n",
    "# re-declaring the variable works\n",
    "f = \"rajesh\"\n",
    "print(f)"
   ]
  },
  {
   "cell_type": "markdown",
   "metadata": {},
   "source": [
    "Concatenate Variables\n",
    "Let's see whether you can concatenate different data types like string and number together. For example, we will concatenate \"Guru\" with the number \"99\".\n",
    "\n",
    "Unlike Java, which concatenates number with string without declaring number as string, Python requires declaring the number as string otherwise it will show a TypeError"
   ]
  },
  {
   "cell_type": "code",
   "execution_count": 9,
   "metadata": {
    "collapsed": true
   },
   "outputs": [
    {
     "name": "stdout",
     "output_type": "stream",
     "text": [
      "rajesh6\nLuke6\nJohn 6 1:4\n"
     ]
    }
   ],
   "source": [
    "#Example 1\n",
    "a = \"rajesh\"\n",
    "b = 6\n",
    "# we can concatenating integer is declaring as string\n",
    "print(a+str(b))\n",
    "\n",
    "#Example 2\n",
    "c = 6\n",
    "d = \"Luke\"\n",
    "print(d+str(c))\n",
    "\n",
    "#Example 3\n",
    "e = \"John\"\n",
    "f = 6\n",
    "g = '1:4'\n",
    "print(e+\" \"+str(f)+\" \"+str(g))\n",
    "\n",
    "\n"
   ]
  },
  {
   "cell_type": "markdown",
   "metadata": {},
   "source": [
    "Local & Global Variables\n",
    "In Python when you want to use the same variable for rest of your program or module you declare it a global variable, while if you want to use the variable in a specific function or method, you use a local variable.\n",
    "\n",
    "Let's understand this difference between local and global variable with the below program.\n",
    "\n",
    "Variable \"f\" is global in scope and is assigned value 101 which is printed in output\n",
    "Variable f is again declared in function and assumes local scope. It is assigned value \"I am learning Python.\" which is printed out as an output. This variable is different from the global variable \"f\" define earlier\n",
    "Once the function call is over, the local variable f is destroyed. At line 12, when we again, print the value of \"f\" is it displays the value of global variable f=101\n"
   ]
  },
  {
   "cell_type": "code",
   "execution_count": 11,
   "metadata": {},
   "outputs": [
    {
     "name": "stdout",
     "output_type": "stream",
     "text": [
      "101\nI am learning Python\n101\nI am learning Python\n101\n"
     ]
    }
   ],
   "source": [
    "# Declare a variable and initialize it\n",
    "f = 101\n",
    "print(f)\n",
    "\n",
    "# Global vs. local variables in functions\n",
    "def someFunction():\n",
    "    f = \"I am learning Python\"\n",
    "    print(f)\n",
    "someFunction()\n",
    "print(f)\n",
    "\n",
    "someFunction()\n",
    "print(f)\n"
   ]
  },
  {
   "cell_type": "code",
   "execution_count": null,
   "metadata": {},
   "outputs": [],
   "source": []
  }
 ],
 "metadata": {
  "kernelspec": {
   "display_name": "Python 2",
   "language": "python",
   "name": "python2"
  },
  "language_info": {
   "codemirror_mode": {
    "name": "ipython",
    "version": 2
   },
   "file_extension": ".py",
   "mimetype": "text/x-python",
   "name": "python",
   "nbconvert_exporter": "python",
   "pygments_lexer": "ipython2",
   "version": "2.7.6"
  }
 },
 "nbformat": 4,
 "nbformat_minor": 0
}
