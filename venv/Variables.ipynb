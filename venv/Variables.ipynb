{
 "cells": [
  {
   "cell_type": "markdown",
   "metadata": {
    "collapsed": true
   },
   "source": [
    "Python Variables: Declare, Concatenate, Global & Local\n",
    "What is a Variable in Python?\n",
    "A Python variable is a reserved memory location to store values. In other words, a variable in a python program gives data to the computer for processing.\n",
    "\n",
    "Every value in Python has a datatype. Different data types in Python are Numbers, List, Tuple, Strings, Dictionary, etc. Variables can be declared by any name or even alphabets like a, aa, abc, etc.\n",
    "\n",
    "In this tutorial, we will learn,\n",
    "\n",
    "How to Declare and use a Variable\n",
    "Re-declare a Variable\n",
    "Concatenate Variables\n",
    "Local & Global Variables\n",
    "Delete a variable\n",
    "How to Declare and use a Variable\n",
    "Let see an example. We will declare variable \"a\" and print it."
   ]
  },
  {
   "cell_type": "code",
   "execution_count": null,
   "metadata": {},
   "outputs": [],
   "source": []
  }
 ],
 "metadata": {
  "kernelspec": {
   "display_name": "Python 2",
   "language": "python",
   "name": "python2"
  },
  "language_info": {
   "codemirror_mode": {
    "name": "ipython",
    "version": 2
   },
   "file_extension": ".py",
   "mimetype": "text/x-python",
   "name": "python",
   "nbconvert_exporter": "python",
   "pygments_lexer": "ipython2",
   "version": "2.7.6"
  }
 },
 "nbformat": 4,
 "nbformat_minor": 0
}
