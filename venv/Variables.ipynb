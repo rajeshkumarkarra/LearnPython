{
 "cells": [
  {
   "cell_type": "markdown",
   "metadata": {
    "collapsed": true
   },
   "source": [
    "Python Variables: Declare, Concatenate, Global & Local\n",
    "What is a Variable in Python?\n",
    "A Python variable is a reserved memory location to store values. In other words, a variable in a python program gives data to the computer for processing.\n",
    "\n",
    "Every value in Python has a datatype. Different data types in Python are Numbers, List, Tuple, Strings, Dictionary, etc. Variables can be declared by any name or even alphabets like a, aa, abc, etc.\n",
    "\n",
    "In this tutorial, we will learn,\n",
    "\n",
    "How to Declare and use a Variable\n",
    "Re-declare a Variable\n",
    "Concatenate Variables\n",
    "Local & Global Variables\n",
    "Delete a variable\n",
    "How to Declare and use a Variable\n",
    "Let see an example. We will declare variable \"a\" and print it."
   ]
  },
  {
   "cell_type": "code",
   "execution_count": 2,
   "metadata": {},
   "outputs": [
    {
     "name": "stdout",
     "output_type": "stream",
     "text": [
      "1\nrajesh\n"
     ]
    }
   ],
   "source": [
    "# Declare a variable and initialize it\n",
    "f = 1\n",
    "print(f)\n",
    "# re-declaring the variable works\n",
    "f = \"rajesh\"\n",
    "print(f)"
   ]
  },
  {
   "cell_type": "markdown",
   "metadata": {},
   "source": [
    "Concatenate Variables\n",
    "Let's see whether you can concatenate different data types like string and number together. For example, we will concatenate \"Guru\" with the number \"99\".\n",
    "\n",
    "Unlike Java, which concatenates number with string without declaring number as string, Python requires declaring the number as string otherwise it will show a TypeError"
   ]
  },
  {
   "cell_type": "code",
   "execution_count": 9,
   "metadata": {
    "collapsed": true
   },
   "outputs": [
    {
     "name": "stdout",
     "output_type": "stream",
     "text": [
      "rajesh6\nLuke6\nJohn 6 1:4\n"
     ]
    }
   ],
   "source": [
    "a = \"rajesh\"\n",
    "b = 6\n",
    "# we can concatenating integer is declaring as string\n",
    "print(a+str(b))\n",
    "\n",
    "c = 6\n",
    "d = \"Luke\"\n",
    "print(d+str(c))\n",
    "\n",
    "e = \"John\"\n",
    "f = 6\n",
    "g = '1:4'\n",
    "print(e+\" \"+str(f)+\" \"+str(g))\n"
   ]
  },
  {
   "cell_type": "code",
   "execution_count": null,
   "metadata": {},
   "outputs": [],
   "source": []
  }
 ],
 "metadata": {
  "kernelspec": {
   "display_name": "Python 2",
   "language": "python",
   "name": "python2"
  },
  "language_info": {
   "codemirror_mode": {
    "name": "ipython",
    "version": 2
   },
   "file_extension": ".py",
   "mimetype": "text/x-python",
   "name": "python",
   "nbconvert_exporter": "python",
   "pygments_lexer": "ipython2",
   "version": "2.7.6"
  }
 },
 "nbformat": 4,
 "nbformat_minor": 0
}
